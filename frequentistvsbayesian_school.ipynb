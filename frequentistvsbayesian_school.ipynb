{
  "nbformat": 4,
  "nbformat_minor": 0,
  "metadata": {
    "colab": {
      "name": " frequentistvsbayesian school.ipynb",
      "provenance": [],
      "collapsed_sections": [],
      "authorship_tag": "ABX9TyNYm1jWcX9YghNFK8sqL08E",
      "include_colab_link": true
    },
    "kernelspec": {
      "name": "python3",
      "display_name": "Python 3"
    },
    "language_info": {
      "name": "python"
    }
  },
  "cells": [
    {
      "cell_type": "markdown",
      "metadata": {
        "id": "view-in-github",
        "colab_type": "text"
      },
      "source": [
        "<a href=\"https://colab.research.google.com/github/mazoSant/Personal_proyects/blob/master/frequentistvsbayesian_school.ipynb\" target=\"_parent\"><img src=\"https://colab.research.google.com/assets/colab-badge.svg\" alt=\"Open In Colab\"/></a>"
      ]
    },
    {
      "cell_type": "code",
      "execution_count": 1,
      "metadata": {
        "id": "Y3_t6kylJzDY"
      },
      "outputs": [],
      "source": [
        "import numpy as np\n",
        "from numpy.random import binomial\n",
        "from scipy.stats import binom\n",
        "import matplotlib.pyplot as plt"
      ]
    },
    {
      "cell_type": "markdown",
      "source": [
        "#  Frequentist vs Bayesian school\n",
        "**Here we can see how if the number of trials grow up the empirical experiment looks like the theorical distribution**"
      ],
      "metadata": {
        "id": "qsfCGfD8Ptlf"
      }
    },
    {
      "cell_type": "code",
      "source": [
        "p=0.5\n",
        "n=4\n",
        "def plot_hist(num_trials):\n",
        "  possible_results=[0,1,2,3,4]\n",
        "  empty_list=[]\n",
        "  for i in range (num_trials):\n",
        "    empty_list.append(binomial(n,p))\n",
        "  percentage=np.unique(empty_list,return_counts=True)[1]/len(empty_list)\n",
        "  teorical_dist=[binom(4,0.5).pmf(k)for k in possible_results]\n",
        "  plt.bar(possible_results,percentage,color='red')\n",
        "  plt.bar(possible_results, teorical_dist, alpha=0.5,color='blue')\n",
        "  plt.show()\n",
        "plot_hist(10)\n",
        "\n",
        "\n"
      ],
      "metadata": {
        "colab": {
          "base_uri": "https://localhost:8080/",
          "height": 264
        },
        "id": "AJ_kjfIrKbNy",
        "outputId": "87270bd4-e021-4aef-fa2a-2705a3ee2d6e"
      },
      "execution_count": 55,
      "outputs": [
        {
          "output_type": "display_data",
          "data": {
            "text/plain": [
              "<Figure size 432x288 with 1 Axes>"
            ],
            "image/png": "[encoded data removed]"
          },
          "metadata": {
            "needs_background": "light"
          }
        }
      ]
    },
    {
      "cell_type": "code",
      "source": [
        "plot_hist(100)"
      ],
      "metadata": {
        "colab": {
          "base_uri": "https://localhost:8080/",
          "height": 264
        },
        "id": "7hQjvJasRKhG",
        "outputId": "cd11a8c1-16ba-43bb-d5d8-1a4c78485f32"
      },
      "execution_count": 56,
      "outputs": [
        {
          "output_type": "display_data",
          "data": {
            "text/plain": [
              "<Figure size 432x288 with 1 Axes>"
            ],
            "image/png": "[encoded data removed]"
          },
          "metadata": {
            "needs_background": "light"
          }
        }
      ]
    },
    {
      "cell_type": "code",
      "source": [
        "plot_hist(1000)"
      ],
      "metadata": {
        "colab": {
          "base_uri": "https://localhost:8080/",
          "height": 264
        },
        "id": "NvegExW7RL2u",
        "outputId": "20360245-6726-4f96-a6b9-2c2c696cd144"
      },
      "execution_count": 57,
      "outputs": [
        {
          "output_type": "display_data",
          "data": {
            "text/plain": [
              "<Figure size 432x288 with 1 Axes>"
            ],
            "image/png": "[encoded data removed]"
          },
          "metadata": {
            "needs_background": "light"
          }
        }
      ]
    },
    {
      "cell_type": "code",
      "source": [
        "plot_hist(10000)"
      ],
      "metadata": {
        "colab": {
          "base_uri": "https://localhost:8080/",
          "height": 264
        },
        "id": "erWF27JiRNfG",
        "outputId": "038afb1a-83a5-4567-c4c2-cbcafaa03317"
      },
      "execution_count": 58,
      "outputs": [
        {
          "output_type": "display_data",
          "data": {
            "text/plain": [
              "<Figure size 432x288 with 1 Axes>"
            ],
            "image/png": "[encoded data removed]"
          },
          "metadata": {
            "needs_background": "light"
          }
        }
      ]
    }
  ]
}